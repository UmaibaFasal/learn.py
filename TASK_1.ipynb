{
  "nbformat": 4,
  "nbformat_minor": 0,
  "metadata": {
    "colab": {
      "name": " TASK 1",
      "provenance": [],
      "include_colab_link": true
    },
    "kernelspec": {
      "name": "python3",
      "display_name": "Python 3"
    },
    "language_info": {
      "name": "python"
    }
  },
  "cells": [
    {
      "cell_type": "markdown",
      "metadata": {
        "id": "view-in-github",
        "colab_type": "text"
      },
      "source": [
        "<a href=\"https://colab.research.google.com/github/UmaibaFasal/learn.py/blob/main/TASK_1.ipynb\" target=\"_parent\"><img src=\"https://colab.research.google.com/assets/colab-badge.svg\" alt=\"Open In Colab\"/></a>"
      ]
    },
    {
      "cell_type": "markdown",
      "metadata": {
        "id": "q-yWxfWESiQo"
      },
      "source": [
        "1.Write a program that uses input to prompt a user for their name and then welcomes them."
      ]
    },
    {
      "cell_type": "code",
      "metadata": {
        "id": "9ikpRxqMSxu0",
        "colab": {
          "base_uri": "https://localhost:8080/"
        },
        "outputId": "eca85c9d-4606-4d90-cb39-c1fee6e9b99e"
      },
      "source": [
        "#please provide your answer here below this line\n",
        "n=str(input(\"name:\"))\n",
        "print(\"Welcome\",n)\n"
      ],
      "execution_count": 9,
      "outputs": [
        {
          "output_type": "stream",
          "text": [
            "name:Umaiba\n",
            "Welcome Umaiba\n"
          ],
          "name": "stdout"
        }
      ]
    },
    {
      "cell_type": "markdown",
      "metadata": {
        "id": "Ay5OdxguS-2Z"
      },
      "source": [
        "2.Write a program which prompts the user for a Celsius temperature, convert the temperature to Fahrenheit, and print out the converted temperature."
      ]
    },
    {
      "cell_type": "code",
      "metadata": {
        "id": "MMv2yWNtTgEu",
        "colab": {
          "base_uri": "https://localhost:8080/"
        },
        "outputId": "1923a623-d8a7-4fa3-8677-08bb440dc2d6"
      },
      "source": [
        "#please provide your answer here below this line\n",
        "c=int(input(\"temperature(in celsius):\"))\n",
        "f=(c*1.8)+32\n",
        "print(\"temperature(in farenheit):\",f)\n"
      ],
      "execution_count": 3,
      "outputs": [
        {
          "output_type": "stream",
          "text": [
            "temperature(in celsius):40\n",
            "temperature(in farenheit): 104.0\n"
          ],
          "name": "stdout"
        }
      ]
    },
    {
      "cell_type": "markdown",
      "metadata": {
        "id": "v6O1a198TpNd"
      },
      "source": [
        "3.Write a Python program to convert degree to radian."
      ]
    },
    {
      "cell_type": "code",
      "metadata": {
        "id": "27Jj4_D0UQBA",
        "colab": {
          "base_uri": "https://localhost:8080/"
        },
        "outputId": "3c9d36be-61ed-4b6b-984d-7f082221319a"
      },
      "source": [
        "#please provide your answer here below this line\n",
        "import math\n",
        "d=int(input(\"degree:\"))\n",
        "r=d*(math.pi/180)\n",
        "print(d,\"degree=\",r,\"radian\")\n",
        "\n"
      ],
      "execution_count": 8,
      "outputs": [
        {
          "output_type": "stream",
          "text": [
            "degree:45\n",
            "45 degree= 0.7853981633974483 radian\n"
          ],
          "name": "stdout"
        }
      ]
    }
  ]
}