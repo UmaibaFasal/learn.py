{
  "nbformat": 4,
  "nbformat_minor": 0,
  "metadata": {
    "colab": {
      "name": "TASK 11.ipynb",
      "provenance": [],
      "include_colab_link": true
    },
    "kernelspec": {
      "name": "python3",
      "display_name": "Python 3"
    },
    "language_info": {
      "name": "python"
    }
  },
  "cells": [
    {
      "cell_type": "markdown",
      "metadata": {
        "id": "view-in-github",
        "colab_type": "text"
      },
      "source": [
        "<a href=\"https://colab.research.google.com/github/UmaibaFasal/learn.py/blob/main/TASK_11.ipynb\" target=\"_parent\"><img src=\"https://colab.research.google.com/assets/colab-badge.svg\" alt=\"Open In Colab\"/></a>"
      ]
    },
    {
      "cell_type": "markdown",
      "metadata": {
        "id": "Ud2gZIbu6E59"
      },
      "source": [
        "N.B: Please find the answers by applying the functions on the matrices"
      ]
    },
    {
      "cell_type": "markdown",
      "metadata": {
        "id": "_9JX1Vdn4sTN"
      },
      "source": [
        "1. Create 2 3×3 matrix with 0-8 and 10-19 as elements in each and perform the vectorize multiplication operations on the matrices.(Outer product, Dot product, Element wise product)."
      ]
    },
    {
      "cell_type": "code",
      "metadata": {
        "id": "aBzAn6Z75VQ6",
        "colab": {
          "base_uri": "https://localhost:8080/"
        },
        "outputId": "c67c3a64-85c6-4376-b42b-c48d3751766b"
      },
      "source": [
        "#please type your answer below this line.\n",
        "import numpy as np\n",
        "a=np.random.randint(low=0, high=8, size=(3,3))\n",
        "b=np.random.randint(low=10, high=19, size=(3,3))\n",
        "print(a)\n",
        "print(b)\n",
        "print(\"\\nOUTER PRODUCT\\n\")\n",
        "print(np.outer(a,b,out=None))\n",
        "print(\"\\nDOT PRODUCT\\n\")\n",
        "print(np.dot(a,b,out=None))\n",
        "print(\"\\nELEMENT WISE PRODUCT\\n\")\n",
        "print(np.multiply(a,b))\n"
      ],
      "execution_count": 2,
      "outputs": [
        {
          "output_type": "stream",
          "text": [
            "[[0 2 2]\n",
            " [6 4 7]\n",
            " [6 4 2]]\n",
            "[[16 13 17]\n",
            " [11 18 16]\n",
            " [13 17 17]]\n",
            "\n",
            "OUTER PRODUCT\n",
            "\n",
            "[[  0   0   0   0   0   0   0   0   0]\n",
            " [ 32  26  34  22  36  32  26  34  34]\n",
            " [ 32  26  34  22  36  32  26  34  34]\n",
            " [ 96  78 102  66 108  96  78 102 102]\n",
            " [ 64  52  68  44  72  64  52  68  68]\n",
            " [112  91 119  77 126 112  91 119 119]\n",
            " [ 96  78 102  66 108  96  78 102 102]\n",
            " [ 64  52  68  44  72  64  52  68  68]\n",
            " [ 32  26  34  22  36  32  26  34  34]]\n",
            "\n",
            "DOT PRODUCT\n",
            "\n",
            "[[ 48  70  66]\n",
            " [231 269 285]\n",
            " [166 184 200]]\n",
            "\n",
            "ELEMENT WISE PRODUCT\n",
            "\n",
            "[[  0  26  34]\n",
            " [ 66  72 112]\n",
            " [ 78  68  34]]\n"
          ],
          "name": "stdout"
        }
      ]
    },
    {
      "cell_type": "markdown",
      "metadata": {
        "id": "gJGtIjx25k92"
      },
      "source": [
        "2. Create a 4×4 matrix with 0-16  as elements in it. Add a scalar 4 to the matrix and also multiply it with [1,2,3,4] 1-D matrix by broadcasting. ( Please note to do both the addition and multiplication by broadcasting.)"
      ]
    },
    {
      "cell_type": "code",
      "metadata": {
        "id": "H7cznh8M56r-",
        "colab": {
          "base_uri": "https://localhost:8080/"
        },
        "outputId": "ca13537c-2140-4e77-d564-060697592061"
      },
      "source": [
        "#please type your answer below this line.\n",
        "import numpy as np\n",
        "a=np.random.randint(low=0, high=16, size=(4,4))\n",
        "b=np.array([1, 2,3,4])\n",
        "print(a)\n",
        "s=a+4\n",
        "print(\"\\nADDITION\\n\")\n",
        "print(s)\n",
        "c=a*b\n",
        "print(\"\\nMULTIPICATION\\n\")\n",
        "print(c)\n"
      ],
      "execution_count": 4,
      "outputs": [
        {
          "output_type": "stream",
          "text": [
            "[[11  2 13  2]\n",
            " [ 8  5  4  9]\n",
            " [ 9 15 12  9]\n",
            " [11 14  7  4]]\n",
            "\n",
            "ADDITION\n",
            "\n",
            "[[15  6 17  6]\n",
            " [12  9  8 13]\n",
            " [13 19 16 13]\n",
            " [15 18 11  8]]\n",
            "\n",
            "MULTIPICATION\n",
            "\n",
            "[[11  4 39  8]\n",
            " [ 8 10 12 36]\n",
            " [ 9 30 36 36]\n",
            " [11 28 21 16]]\n"
          ],
          "name": "stdout"
        }
      ]
    }
  ]
}