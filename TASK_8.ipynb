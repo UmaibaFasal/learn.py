{
  "nbformat": 4,
  "nbformat_minor": 0,
  "metadata": {
    "colab": {
      "name": "TASK 8.ipynb",
      "provenance": [],
      "include_colab_link": true
    },
    "kernelspec": {
      "name": "python3",
      "display_name": "Python 3"
    },
    "language_info": {
      "name": "python"
    }
  },
  "cells": [
    {
      "cell_type": "markdown",
      "metadata": {
        "id": "view-in-github",
        "colab_type": "text"
      },
      "source": [
        "<a href=\"https://colab.research.google.com/github/UmaibaFasal/learn.py/blob/main/TASK_8.ipynb\" target=\"_parent\"><img src=\"https://colab.research.google.com/assets/colab-badge.svg\" alt=\"Open In Colab\"/></a>"
      ]
    },
    {
      "cell_type": "markdown",
      "metadata": {
        "id": "slsGswYbJSo7"
      },
      "source": [
        "1. Generate a 3 x 3 matrix using random module."
      ]
    },
    {
      "cell_type": "code",
      "metadata": {
        "id": "GGRQSYyNJW9t",
        "colab": {
          "base_uri": "https://localhost:8080/"
        },
        "outputId": "02323c64-83d3-4ae0-a5d4-4ff05d55c04a"
      },
      "source": [
        "#please provide your answer below this line.\n",
        "import numpy as np\n",
        "a=np.random.randint(10,size=(3,3))\n",
        "print(a)"
      ],
      "execution_count": null,
      "outputs": [
        {
          "output_type": "stream",
          "text": [
            "[[2 2 7]\n",
            " [1 3 0]\n",
            " [5 2 7]]\n"
          ],
          "name": "stdout"
        }
      ]
    },
    {
      "cell_type": "markdown",
      "metadata": {
        "id": "4OB9KFX6JfYA"
      },
      "source": [
        "2. Generate two 4 x 4 matrix using numpy and \n",
        "\n",
        " a) Reshape it to 2 x 8matrix and vertically stack it.\n",
        "\n",
        " b) Reshape it to 2 x 8 matrix and horizontally stack it."
      ]
    },
    {
      "cell_type": "code",
      "metadata": {
        "id": "VoIqYeNWJ4H_",
        "colab": {
          "base_uri": "https://localhost:8080/"
        },
        "outputId": "4720d8db-5dff-4dee-8ed1-134d7d4e7698"
      },
      "source": [
        "#please provide your answer below this line.\n",
        "import numpy as np\n",
        "a=np.random.randint(10,size=(4,4))\n",
        "print(\"array1:\")\n",
        "print(a)\n",
        "b=np.random.randint(10,size=(4,4))\n",
        "print(\"array2:\")\n",
        "print(b)\n",
        "A=a.reshape(2,8)\n",
        "B=b.reshape(2,8)\n",
        "print(\"vertically stacked:\")\n",
        "print(np.vstack((A,B)))\n",
        "print(\"horizontally stacked\")\n",
        "print(np.hstack((A,B)))"
      ],
      "execution_count": 1,
      "outputs": [
        {
          "output_type": "stream",
          "text": [
            "array1:\n",
            "[[7 8 9 9]\n",
            " [2 1 6 8]\n",
            " [8 9 5 5]\n",
            " [0 5 5 4]]\n",
            "array2:\n",
            "[[0 3 6 2]\n",
            " [5 9 8 9]\n",
            " [7 6 9 5]\n",
            " [1 6 4 0]]\n",
            "vertically stacked:\n",
            "[[7 8 9 9 2 1 6 8]\n",
            " [8 9 5 5 0 5 5 4]\n",
            " [0 3 6 2 5 9 8 9]\n",
            " [7 6 9 5 1 6 4 0]]\n",
            "horizontally stacked\n",
            "[[7 8 9 9 2 1 6 8 0 3 6 2 5 9 8 9]\n",
            " [8 9 5 5 0 5 5 4 7 6 9 5 1 6 4 0]]\n"
          ],
          "name": "stdout"
        }
      ]
    }
  ]
}