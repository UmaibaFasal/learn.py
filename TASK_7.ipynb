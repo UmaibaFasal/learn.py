{
  "nbformat": 4,
  "nbformat_minor": 0,
  "metadata": {
    "colab": {
      "name": "TASK  7.ipynb",
      "provenance": [],
      "include_colab_link": true
    },
    "kernelspec": {
      "name": "python3",
      "display_name": "Python 3"
    },
    "language_info": {
      "name": "python"
    }
  },
  "cells": [
    {
      "cell_type": "markdown",
      "metadata": {
        "id": "view-in-github",
        "colab_type": "text"
      },
      "source": [
        "<a href=\"https://colab.research.google.com/github/UmaibaFasal/learn.py/blob/main/TASK_7.ipynb\" target=\"_parent\"><img src=\"https://colab.research.google.com/assets/colab-badge.svg\" alt=\"Open In Colab\"/></a>"
      ]
    },
    {
      "cell_type": "markdown",
      "metadata": {
        "id": "b0V3vwzcydKy"
      },
      "source": [
        "1. Write a program to check whether a  string is palindrome or not using functions. \n",
        "\n",
        "   ( A function is to be created to check whether the string is palindrome and it should give the output true or false to the main program)"
      ]
    },
    {
      "cell_type": "code",
      "metadata": {
        "id": "M2Mi7EOdyxiu",
        "colab": {
          "base_uri": "https://localhost:8080/"
        },
        "outputId": "bd509436-6977-460d-fd10-c52fd04368af"
      },
      "source": [
        "#please enter the code below this line.\n",
        "def palindrome(s):\n",
        "  l=len(s)\n",
        "  if(l<2):\n",
        "    return(True)\n",
        "  elif(s[0]!=s[-1]):\n",
        "    return(False)\n",
        "  else:\n",
        "    return(palindrome(s[1:-1]))\n",
        "s=str(input(\"string:\"))\n",
        "if(palindrome(s)==True):\n",
        "  print(\"PALINDROME\")\n",
        "else:\n",
        "  print(\"NOT A PALINDROME\")"
      ],
      "execution_count": 17,
      "outputs": [
        {
          "output_type": "stream",
          "text": [
            "string:pop\n",
            "PALINDROME\n"
          ],
          "name": "stdout"
        }
      ]
    },
    {
      "cell_type": "markdown",
      "metadata": {
        "id": "vSiShTyOzEz-"
      },
      "source": [
        "2.  Write a menu driven program to find largest element in L, smallest element, avg of all values, sum of all values in L. All these operation should be performed in different functions and the result should be returned.\n",
        "\n",
        "\n",
        "      L=[23,24,11,90,1,41,9,99,28,56,72]"
      ]
    },
    {
      "cell_type": "code",
      "metadata": {
        "id": "fRtMIw_CzsmO",
        "colab": {
          "base_uri": "https://localhost:8080/"
        },
        "outputId": "7a28b58a-d56b-4be7-f4ee-09ffef400dbb"
      },
      "source": [
        "#please enter the code below this line.\n",
        "def largest(L):\n",
        "  l=len(L)\n",
        "  max=0\n",
        "  for i in L:\n",
        "    if(i>max):\n",
        "      max=i\n",
        "  return(max)\n",
        "def smallest(L):\n",
        "  min=L[0]\n",
        "  for i in L:\n",
        "    if(i<min):\n",
        "      min=i\n",
        "  return(min)\n",
        "def sum(L):\n",
        "  sum=0\n",
        "  for i in L:\n",
        "    sum+=i\n",
        "  return(sum)\n",
        "def avg(L):\n",
        "  sum=0\n",
        "  for i in L:\n",
        "    sum+=i\n",
        "  avg=sum/len(L)\n",
        "  return(avg)\n",
        "L=[23, 24, 11,90, 1, 41, 9, 99, 28, 56, 72]\n",
        "print(\"1. largest element\\n2. smallest element\\n3. average of all values\\n4. sum of all values\")\n",
        "op=int(input(\"option:\"))\n",
        "while(True):\n",
        "  if(op==1):\n",
        "    print(largest(L), \"is the largest\")\n",
        "    op=int(input(\"\\noption:\"))\n",
        "  if(op==2):\n",
        "    print(smallest(L), \"is the smallest\")\n",
        "    op=int(input(\"\\noption:\"))\n",
        "  if(op==3):\n",
        "    print(\"average =\",avg(L))\n",
        "    op=int(input(\"\\noption:\"))\n",
        "  if(op==4):\n",
        "    print(\"sum =\",sum(L))\n",
        "    op=int(input(\"\\noption:\"))\n"
      ],
      "execution_count": null,
      "outputs": [
        {
          "output_type": "stream",
          "text": [
            "1. largest element\n",
            "2. smallest element\n",
            "3. average of all values\n",
            "4. sum of all values\n",
            "99 is the largest\n",
            "1 is the smallest\n",
            "average = 41.27272727272727\n",
            "sum = 454\n"
          ],
          "name": "stdout"
        }
      ]
    }
  ]
}