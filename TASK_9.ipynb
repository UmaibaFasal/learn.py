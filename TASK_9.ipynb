{
  "nbformat": 4,
  "nbformat_minor": 0,
  "metadata": {
    "colab": {
      "name": "TASK 9.ipynb",
      "provenance": [],
      "include_colab_link": true
    },
    "kernelspec": {
      "name": "python3",
      "display_name": "Python 3"
    },
    "language_info": {
      "name": "python"
    }
  },
  "cells": [
    {
      "cell_type": "markdown",
      "metadata": {
        "id": "view-in-github",
        "colab_type": "text"
      },
      "source": [
        "<a href=\"https://colab.research.google.com/github/UmaibaFasal/learn.py/blob/main/TASK_9.ipynb\" target=\"_parent\"><img src=\"https://colab.research.google.com/assets/colab-badge.svg\" alt=\"Open In Colab\"/></a>"
      ]
    },
    {
      "cell_type": "markdown",
      "metadata": {
        "id": "CBOQ3rFElEb0"
      },
      "source": [
        "1. Create an 4x4 array containing the values ranging from 0 - 15 (use arange function). Then ,\n",
        "  \n",
        "  a) split it equally along horizontal.\n",
        "\n",
        "  b) split it as 4 parts vertically.\n",
        "\n"
      ]
    },
    {
      "cell_type": "code",
      "metadata": {
        "id": "pKy4fjS_m3XD",
        "colab": {
          "base_uri": "https://localhost:8080/"
        },
        "outputId": "c0fc183b-cba0-4490-f592-906c0d116fd4"
      },
      "source": [
        "#please provide your answer below this line\n",
        "import numpy as np\n",
        "a=np.random.randint(15, size=(4,4))\n",
        "print(\"HORIZONTAL\\n\")\n",
        "print(np.hsplit(a, 4))\n",
        "print(\"\\nVERTICAL\\n\")\n",
        "print(np.vsplit(a,4))"
      ],
      "execution_count": 31,
      "outputs": [
        {
          "output_type": "stream",
          "text": [
            "HORIZONTAL\n",
            "\n",
            "[array([[ 1],\n",
            "       [ 2],\n",
            "       [ 8],\n",
            "       [13]]), array([[ 2],\n",
            "       [ 8],\n",
            "       [14],\n",
            "       [ 1]]), array([[12],\n",
            "       [ 9],\n",
            "       [ 6],\n",
            "       [11]]), array([[ 9],\n",
            "       [14],\n",
            "       [ 5],\n",
            "       [11]])]\n",
            "\n",
            "VERTICAL\n",
            "\n",
            "[array([[ 1,  2, 12,  9]]), array([[ 2,  8,  9, 14]]), array([[ 8, 14,  6,  5]]), array([[13,  1, 11, 11]])]\n"
          ],
          "name": "stdout"
        }
      ]
    },
    {
      "cell_type": "markdown",
      "metadata": {
        "id": "ORtqWRAeoMvn"
      },
      "source": [
        "2. Create a 3x3 matrix using random module and then,\n",
        "\n",
        "  a) Find the ceil of the matrix.\n",
        "  \n",
        "  b) Find the floor of the matrix."
      ]
    },
    {
      "cell_type": "code",
      "metadata": {
        "id": "kt_CO_v9qpU-",
        "colab": {
          "base_uri": "https://localhost:8080/"
        },
        "outputId": "02ae921e-6718-42d0-b469-ee6b73567e75"
      },
      "source": [
        "#please provide your answer below this line\n",
        "import numpy as np\n",
        "a=np.random.rand(3,3)\n",
        "print(a)\n",
        "print(\"\\nCEIL\")\n",
        "print(np.ceil(a))\n",
        "print(\"\\nFLOOR\")\n",
        "print(np.floor(a))"
      ],
      "execution_count": 33,
      "outputs": [
        {
          "output_type": "stream",
          "text": [
            "[[0.64936325 0.22072524 0.05104628]\n",
            " [0.57033808 0.20406527 0.8169621 ]\n",
            " [0.77900194 0.90038847 0.5739356 ]]\n",
            "\n",
            "CEIL\n",
            "[[1. 1. 1.]\n",
            " [1. 1. 1.]\n",
            " [1. 1. 1.]]\n",
            "\n",
            "FLOOR\n",
            "[[0. 0. 0.]\n",
            " [0. 0. 0.]\n",
            " [0. 0. 0.]]\n"
          ],
          "name": "stdout"
        }
      ]
    },
    {
      "cell_type": "markdown",
      "metadata": {
        "id": "oln9t19WqzBb"
      },
      "source": [
        "3. Create a random 1x4 array and print the random array and its shape.\n",
        "    \n",
        "      (use the shape function for finding the shape & use the same random we created here for both the below operations.)\n",
        "\n",
        "  a) Squeeze the random array and print the squeezed array and its shape.\n",
        "  b) Expand the random array by one axis and print the expanded array and its shape."
      ]
    },
    {
      "cell_type": "code",
      "metadata": {
        "id": "cbGGwRo3vpVX",
        "colab": {
          "base_uri": "https://localhost:8080/"
        },
        "outputId": "3856b5dc-c36d-47b3-9766-a04b17a62d0e"
      },
      "source": [
        "#please provide your answer below this line.\n",
        "import numpy as np\n",
        "a=np.random.rand(1,4)\n",
        "print(a)\n",
        "print(a.shape)\n",
        "print(\"\\nSQUEEZED ARRAY\")\n",
        "A=(np.squeeze(a, axis=0))\n",
        "print(A)\n",
        "print(A.shape)\n",
        "print(\"\\nEXPANDED ARRAY\")\n",
        "E=(np.expand_dims(a, axis=0))\n",
        "print(E)\n",
        "print(E.shape)"
      ],
      "execution_count": 34,
      "outputs": [
        {
          "output_type": "stream",
          "text": [
            "[[0.47291    0.49689908 0.73930664 0.03200291]]\n",
            "(1, 4)\n",
            "\n",
            "SQUEEZED ARRAY\n",
            "[0.47291    0.49689908 0.73930664 0.03200291]\n",
            "(4,)\n",
            "\n",
            "EXPANDED ARRAY\n",
            "[[[0.47291    0.49689908 0.73930664 0.03200291]]]\n",
            "(1, 1, 4)\n"
          ],
          "name": "stdout"
        }
      ]
    }
  ]
}