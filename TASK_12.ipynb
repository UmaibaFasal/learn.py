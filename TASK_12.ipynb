{
  "nbformat": 4,
  "nbformat_minor": 0,
  "metadata": {
    "colab": {
      "name": "TASK 12.ipynb",
      "provenance": [],
      "include_colab_link": true
    },
    "kernelspec": {
      "name": "python3",
      "display_name": "Python 3"
    },
    "language_info": {
      "name": "python"
    }
  },
  "cells": [
    {
      "cell_type": "markdown",
      "metadata": {
        "id": "view-in-github",
        "colab_type": "text"
      },
      "source": [
        "<a href=\"https://colab.research.google.com/github/UmaibaFasal/learn.py/blob/main/TASK_12.ipynb\" target=\"_parent\"><img src=\"https://colab.research.google.com/assets/colab-badge.svg\" alt=\"Open In Colab\"/></a>"
      ]
    },
    {
      "cell_type": "markdown",
      "metadata": {
        "id": "i9LeFsII-SAQ"
      },
      "source": [
        "1. Create an 4x4 array with elements ranging from 0-15. And find the trace of the array."
      ]
    },
    {
      "cell_type": "code",
      "metadata": {
        "id": "eT1ymGjZ-pOZ",
        "colab": {
          "base_uri": "https://localhost:8080/"
        },
        "outputId": "ba225df3-e99b-49e1-f06a-7d96c1874bf2"
      },
      "source": [
        "#please type your answer below this line.\n",
        "import numpy as np\n",
        "a=np.random.randint(low=0, high=15, size=(4,4))\n",
        "print(a)\n",
        "print(\"\\ntrace=\",np.trace(a))"
      ],
      "execution_count": null,
      "outputs": [
        {
          "output_type": "stream",
          "text": [
            "[[ 7  3  6  0]\n",
            " [10  7  2 12]\n",
            " [ 0  2  7  8]\n",
            " [ 9  8 11  8]]\n",
            "trace= 29\n"
          ],
          "name": "stdout"
        }
      ]
    },
    {
      "cell_type": "markdown",
      "metadata": {
        "id": "Hw69FYds-zww"
      },
      "source": [
        "2. Create a matrix with elements [6,1,1],[4,-2,5],[2,8,7].Now find the inverse this matrix."
      ]
    },
    {
      "cell_type": "code",
      "metadata": {
        "id": "IAhA-qIwAoxs",
        "colab": {
          "base_uri": "https://localhost:8080/"
        },
        "outputId": "b38d6eae-8bda-4aad-c3f7-3669448f65f5"
      },
      "source": [
        "#please type your answer below this line.\n",
        "import numpy as np\n",
        "a=np.array(([6,1,1],[4,-2,5],[2,8,7]))\n",
        "print(a)  \n",
        "print(\"\\nINVERSE\\n\",np.linalg.inv(a))\n"
      ],
      "execution_count": null,
      "outputs": [
        {
          "output_type": "stream",
          "text": [
            "[[ 6  1  1]\n",
            " [ 4 -2  5]\n",
            " [ 2  8  7]]\n",
            "\n",
            "INVERSE\n",
            " [[ 0.17647059 -0.00326797 -0.02287582]\n",
            " [ 0.05882353 -0.13071895  0.08496732]\n",
            " [-0.11764706  0.1503268   0.05228758]]\n"
          ],
          "name": "stdout"
        }
      ]
    },
    {
      "cell_type": "markdown",
      "metadata": {
        "id": "6B6aJDFKAz0B"
      },
      "source": [
        "3. Create an 3x3 array with elements ranging from 0-8. And find the norm this array."
      ]
    },
    {
      "cell_type": "code",
      "metadata": {
        "id": "49RVb-g3CXSk",
        "colab": {
          "base_uri": "https://localhost:8080/"
        },
        "outputId": "823c2c8b-e359-497f-eaef-0336b9661753"
      },
      "source": [
        "#please type your answer below this line.\n",
        "import numpy as np\n",
        "a=np.random.randint(low=0, high=8, size=(3,3))\n",
        "print(a)\n",
        "print(\"\\nNORM=\",np.linalg.norm(a))"
      ],
      "execution_count": null,
      "outputs": [
        {
          "output_type": "stream",
          "text": [
            "[[0 0 0]\n",
            " [1 2 1]\n",
            " [3 7 5]]\n",
            "\n",
            "NORM= 9.433981132056603\n"
          ],
          "name": "stdout"
        }
      ]
    },
    {
      "cell_type": "markdown",
      "metadata": {
        "id": "pGKEu4lxDCJK"
      },
      "source": [
        "4. Create a 4x4 array whose value ranging from 0-15.And find the eigenvalues and eigenvectors of this array."
      ]
    },
    {
      "cell_type": "code",
      "metadata": {
        "id": "dyymkid0DTth",
        "colab": {
          "base_uri": "https://localhost:8080/"
        },
        "outputId": "ca753258-06bb-4fe3-ad66-0bec0a858c74"
      },
      "source": [
        "#please type your answer below this line.\n",
        "import numpy as np\n",
        "a=np.random.randint(low=0,high=15, size=(4,4))\n",
        "print(a)\n",
        "print(\"\\nEIGEN VALUES AND EIGEN VECTORS\\n\",np.linalg.eigh(a))"
      ],
      "execution_count": null,
      "outputs": [
        {
          "output_type": "stream",
          "text": [
            "[[ 9  4  1  0]\n",
            " [11  6  7  6]\n",
            " [ 1 11  8 14]\n",
            " [13 10  1 14]]\n",
            "\n",
            "EIGEN VALUES AND EIGEN VECTORS\n",
            " (array([-8.00719549, -1.41845024, 11.82856777, 34.59707797]), array([[-0.39681628,  0.6948226 ,  0.25675349, -0.54206646],\n",
            "       [ 0.76668598,  0.15813649, -0.34137205, -0.52024089],\n",
            "       [-0.49635864, -0.18665813, -0.80748386, -0.25837311],\n",
            "       [-0.09141962, -0.67629369,  0.40683239, -0.60725342]]))\n"
          ],
          "name": "stdout"
        }
      ]
    }
  ]
}