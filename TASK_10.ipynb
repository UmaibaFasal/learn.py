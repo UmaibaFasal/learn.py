{
  "nbformat": 4,
  "nbformat_minor": 0,
  "metadata": {
    "colab": {
      "name": "TASK 10.ipynb",
      "provenance": [],
      "include_colab_link": true
    },
    "kernelspec": {
      "name": "python3",
      "display_name": "Python 3"
    },
    "language_info": {
      "name": "python"
    }
  },
  "cells": [
    {
      "cell_type": "markdown",
      "metadata": {
        "id": "view-in-github",
        "colab_type": "text"
      },
      "source": [
        "<a href=\"https://colab.research.google.com/github/UmaibaFasal/learn.py/blob/main/TASK_10.ipynb\" target=\"_parent\"><img src=\"https://colab.research.google.com/assets/colab-badge.svg\" alt=\"Open In Colab\"/></a>"
      ]
    },
    {
      "cell_type": "markdown",
      "metadata": {
        "id": "VHKxwUewxOi2"
      },
      "source": [
        "1. Generate two  3 x 3 matrix and find it's dot product and take the transpose of the answer."
      ]
    },
    {
      "cell_type": "code",
      "metadata": {
        "id": "RdyKd1CAxZtR",
        "colab": {
          "base_uri": "https://localhost:8080/"
        },
        "outputId": "78c6c36b-f0ba-4e54-809c-070bf4d4c213"
      },
      "source": [
        "#please provide your answer below this line.\n",
        "import numpy as np\n",
        "a=np.random.randint(10,size=(3,3))\n",
        "print(a)\n",
        "b=np.random.randint(10, size=(3,3))\n",
        "print(b)\n",
        "D=np.dot(a,b)\n",
        "print(\"\\nDOT PRODUCT\")\n",
        "print(D)\n",
        "print(\"\\nTRANSPOSE\")\n",
        "print(np.transpose(D))\n"
      ],
      "execution_count": 6,
      "outputs": [
        {
          "output_type": "stream",
          "text": [
            "[[1 6 4]\n",
            " [5 1 8]\n",
            " [3 7 3]]\n",
            "[[2 1 4]\n",
            " [3 7 8]\n",
            " [5 0 9]]\n",
            "\n",
            "DOT PRODUCT\n",
            "[[ 40  43  88]\n",
            " [ 53  12 100]\n",
            " [ 42  52  95]]\n",
            "\n",
            "TRANSPOSE\n",
            "[[ 40  53  42]\n",
            " [ 43  12  52]\n",
            " [ 88 100  95]]\n"
          ],
          "name": "stdout"
        }
      ]
    },
    {
      "cell_type": "markdown",
      "metadata": {
        "id": "9c9ZwiBxxf4t"
      },
      "source": [
        "2. Create a 3x3 matrix with elements [55,25,15], [30,44,2], [11,45,77] . Now find the determinant of the given matrix."
      ]
    },
    {
      "cell_type": "code",
      "metadata": {
        "id": "Anmr3C9KyNyy",
        "colab": {
          "base_uri": "https://localhost:8080/"
        },
        "outputId": "d86c993a-e81d-4681-ea01-872dfdd32d47"
      },
      "source": [
        "#please provide your answer below this line.\n",
        "import numpy as np\n",
        "a=np.array([[55,25,15],[30,44,2],[11,45,77]])\n",
        "print(a)\n",
        "print(\"\\nDETERMINANT\")\n",
        "print(np.linalg.det(a))\n"
      ],
      "execution_count": 16,
      "outputs": [
        {
          "output_type": "stream",
          "text": [
            "[[55 25 15]\n",
            " [30 44  2]\n",
            " [11 45 77]]\n",
            "\n",
            "DETERMINANT\n",
            "137180.0000000001\n"
          ],
          "name": "stdout"
        }
      ]
    }
  ]
}