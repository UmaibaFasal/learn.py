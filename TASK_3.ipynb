{
  "nbformat": 4,
  "nbformat_minor": 0,
  "metadata": {
    "colab": {
      "name": "TASK 3.ipynb",
      "provenance": [],
      "include_colab_link": true
    },
    "kernelspec": {
      "name": "python3",
      "display_name": "Python 3"
    },
    "language_info": {
      "name": "python"
    }
  },
  "cells": [
    {
      "cell_type": "markdown",
      "metadata": {
        "id": "view-in-github",
        "colab_type": "text"
      },
      "source": [
        "<a href=\"https://colab.research.google.com/github/UmaibaFasal/learn.py/blob/main/TASK_3.ipynb\" target=\"_parent\"><img src=\"https://colab.research.google.com/assets/colab-badge.svg\" alt=\"Open In Colab\"/></a>"
      ]
    },
    {
      "cell_type": "markdown",
      "metadata": {
        "id": "z20IIB0eUQMN"
      },
      "source": [
        "1 - Write a program which takes a number as input from the user and check whether the number is odd or even.If odd print the number is odd if not print it is even."
      ]
    },
    {
      "cell_type": "code",
      "metadata": {
        "id": "dVgGJ-wTVRit",
        "colab": {
          "base_uri": "https://localhost:8080/"
        },
        "outputId": "a1126b7e-fba6-4438-c56f-2b37f6e46a11"
      },
      "source": [
        "#please enter your answer below this line\n",
        "n=int(input(\"enter a number:\"))\n",
        "if(n%2==0):\n",
        "  print(n,\"is even\")\n",
        "else:\n",
        "  print(n, \"is odd\")"
      ],
      "execution_count": 4,
      "outputs": [
        {
          "output_type": "stream",
          "text": [
            "enter a number:5\n",
            "5 is odd\n"
          ],
          "name": "stdout"
        }
      ]
    },
    {
      "cell_type": "markdown",
      "metadata": {
        "id": "7778XD8PVblj"
      },
      "source": [
        "2 -Write a program to find the largest among three numbers and print the largest number."
      ]
    },
    {
      "cell_type": "code",
      "metadata": {
        "id": "m0tUOkOFWR-d",
        "colab": {
          "base_uri": "https://localhost:8080/"
        },
        "outputId": "0babb52a-9ee6-4f42-82d2-032b120658f4"
      },
      "source": [
        "#please enter your answer below this line\n",
        "n=int(input(\"1st number:\"))\n",
        "m=int(input(\"2nd number:\"))\n",
        "o=int(input(\"3rd number:\"))\n",
        "if(n>m and n>o):\n",
        "  print(n, \"is the largest number\")\n",
        "elif(m>n and m>o):\n",
        "  print(m, \"is the largest number\")\n",
        "else:\n",
        "  print(o,\"is the largest number\")\n"
      ],
      "execution_count": 14,
      "outputs": [
        {
          "output_type": "stream",
          "text": [
            "1st number:34\n",
            "2nd number:65\n",
            "3rd number:56\n",
            "65 is the largest\n"
          ],
          "name": "stdout"
        }
      ]
    },
    {
      "cell_type": "markdown",
      "metadata": {
        "id": "Jg2Ns4OQWaJy"
      },
      "source": [
        "3 -Write a function to prompt for a score between 0.0 and 1.0.\n",
        "\n",
        "    If the score is out of range, print an error.\n",
        "    If the score is between 0.0 and 1.0, print a grade using the following table:\n",
        "    Score Grade\n",
        "             Score\tGrade\n",
        "            >= 0.9\tA\n",
        "            >= 0.8\tB\n",
        "            >= 0.7\tC\n",
        "            >= 0.6\tD\n",
        "             < 0.6\tF\n",
        "If the user enters a value out of range, print a suitable error message and exit. For the test, enter a score of 0.85."
      ]
    },
    {
      "cell_type": "code",
      "metadata": {
        "id": "6DLbGe6XXZPx",
        "colab": {
          "base_uri": "https://localhost:8080/"
        },
        "outputId": "e31b7349-1bbe-4dbe-e588-2e26e40817e5"
      },
      "source": [
        "#please enter your answer below this line\n",
        "n=float(input(\"enter the value:\"))\n",
        "if(n<1.0 and n>=0.9):\n",
        "  print(\"grade : A\")\n",
        "elif(n<0.9 and n>=0.8):\n",
        "  print(\"grade : B\")\n",
        "elif(n<0.8 and n>=0.7):\n",
        "  print(\"grade : C\")\n",
        "elif(n<0.7 and n>=0.6):\n",
        "  print(\"grade : D\")\n",
        "elif(n<0.6 and n>=0.0):\n",
        "  print(\"grade : F\")\n",
        "else:\n",
        "  print(\"ERROR\")"
      ],
      "execution_count": 22,
      "outputs": [
        {
          "output_type": "stream",
          "text": [
            "enter the value:.7\n",
            "grade : C\n"
          ],
          "name": "stdout"
        }
      ]
    },
    {
      "cell_type": "markdown",
      "metadata": {
        "id": "-o0scDq7WkVT"
      },
      "source": [
        ""
      ]
    }
  ]
}